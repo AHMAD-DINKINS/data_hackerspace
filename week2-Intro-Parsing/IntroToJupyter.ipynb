{
 "cells": [
  {
   "cell_type": "markdown",
   "metadata": {},
   "source": [
    "# Intro to Jupyter\n",
    "Why do data scientists use Jupyter? Jupyter gives a more convenient platform for experimentation than executing Python code in the command line.\n",
    " - Allows partial execution\n",
    " - Displays results in the browser\n",
    " - Clearer text formatting\n",
    " \n",
    "## Most things in Jupyter Work like you'd expect Python to behave"
   ]
  },
  {
   "cell_type": "code",
   "execution_count": null,
   "metadata": {},
   "outputs": [],
   "source": [
    "print(\"Hello World\")"
   ]
  },
  {
   "cell_type": "code",
   "execution_count": null,
   "metadata": {},
   "outputs": [],
   "source": [
    "x = 5\n",
    "x"
   ]
  },
  {
   "cell_type": "code",
   "execution_count": null,
   "metadata": {},
   "outputs": [],
   "source": [
    "def my_cool_function(str_):\n",
    "    return 5 * str_\n",
    "\n",
    "print(my_cool_function(\"data \"))"
   ]
  },
  {
   "cell_type": "markdown",
   "metadata": {},
   "source": [
    "## Jupyter Magic"
   ]
  },
  {
   "cell_type": "code",
   "execution_count": null,
   "metadata": {},
   "outputs": [],
   "source": [
    "!ls\n",
    "!echo \"Hi!\""
   ]
  },
  {
   "cell_type": "code",
   "execution_count": null,
   "metadata": {},
   "outputs": [],
   "source": [
    "%timeit integers = [x for x in range(200)]"
   ]
  },
  {
   "cell_type": "code",
   "execution_count": null,
   "metadata": {},
   "outputs": [],
   "source": [
    "%%timeit\n",
    "l = []\n",
    "for x in range(200):\n",
    "    l.append(x)"
   ]
  },
  {
   "cell_type": "code",
   "execution_count": null,
   "metadata": {},
   "outputs": [],
   "source": [
    "%%HTML\n",
    "<h1><i><u>Look, I can render HTML</u></i></h1>\n",
    "<img src=\"https://upload.wikimedia.org/wikipedia/commons/c/c3/Python-logo-notext.svg\">\n"
   ]
  },
  {
   "cell_type": "markdown",
   "metadata": {},
   "source": [
    "## Basic Visualization"
   ]
  },
  {
   "cell_type": "code",
   "execution_count": null,
   "metadata": {},
   "outputs": [],
   "source": [
    "import matplotlib\n",
    "import matplotlib.pyplot as plt\n",
    "%matplotlib inline\n",
    "\n",
    "x = range(50)\n",
    "y = [i**2 - 2*i + 5 for i in range(50)]\n",
    "\n",
    "plt.plot(x, y)"
   ]
  },
  {
   "cell_type": "markdown",
   "metadata": {},
   "source": [
    "## Something Cooler"
   ]
  },
  {
   "cell_type": "code",
   "execution_count": null,
   "metadata": {},
   "outputs": [],
   "source": [
    "import matplotlib.finance as fin\n",
    "from datetime import datetime\n",
    "\n",
    "apple_stock = fin.quotes_historical_yahoo_ochl('AAPL', datetime(2016, 1, 1), datetime(2016, 9, 7), asobject=True)\n",
    "\n",
    "# Date, year, month, day, ?, open, close, hi, low\n",
    "print(apple_stock)"
   ]
  },
  {
   "cell_type": "code",
   "execution_count": null,
   "metadata": {},
   "outputs": [],
   "source": [
    "closing_prices = [x[6] for x in apple_stock]\n",
    "dates = [x[0] for x in apple_stock]\n",
    "fig, ax = plt.subplots(1)\n",
    "\n",
    "ax.plot(dates, closing_prices)\n",
    "plt.ylabel(\"Closing Price ($)\")\n",
    "plt.title(\"AAPL Closing Prices\")\n",
    "fig.autofmt_xdate()\n",
    "\n",
    "plt.tight_layout()"
   ]
  },
  {
   "cell_type": "markdown",
   "metadata": {},
   "source": [
    "## MathJax $LaTeX$ support\n",
    "Conveying information about data science sometimes requires formatting equations and special symbols in a way that would be inconvenient for pure Unicode or ASCII. $LaTeX$ is a commonly used standard for mathematicians and scientists."
   ]
  },
  {
   "cell_type": "markdown",
   "metadata": {},
   "source": [
    "Tchebysheff's Inequality: $\\mathbb P(|X-\\mu|\\geq k\\sigma)\\leq\\frac{1}{k^2}$\n",
    "$\\mathbb P(|X-\\mu|\\geq k\\sigma)\\leq\\frac{1}{k^2}\\$"
   ]
  },
  {
   "cell_type": "code",
   "execution_count": null,
   "metadata": {},
   "outputs": [],
   "source": []
  }
 ],
 "metadata": {
  "kernelspec": {
   "display_name": "Python 3",
   "language": "python",
   "name": "python3"
  },
  "language_info": {
   "codemirror_mode": {
    "name": "ipython",
    "version": 3
   },
   "file_extension": ".py",
   "mimetype": "text/x-python",
   "name": "python",
   "nbconvert_exporter": "python",
   "pygments_lexer": "ipython3",
   "version": "3.5.2"
  }
 },
 "nbformat": 4,
 "nbformat_minor": 1
}
